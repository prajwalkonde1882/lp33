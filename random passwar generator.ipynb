{
 "cells": [
  {
   "cell_type": "code",
   "execution_count": 1,
   "id": "36d48d2d",
   "metadata": {},
   "outputs": [
    {
     "name": "stdout",
     "output_type": "stream",
     "text": [
      "Enter password length: 4\n",
      "Choose character set for password from these :\n",
      "        1. Digits\n",
      "        2. Letters\n",
      "        3. Special characters\n",
      "        4. Exit\n",
      "Pick a number 1\n",
      "Pick a number 2\n",
      "Pick a number 3\n",
      "Pick a number 2\n",
      "Pick a number 4\n",
      "The random password is -I!L\n"
     ]
    }
   ],
   "source": [
    "import string\n",
    "import random\n",
    "\n",
    "# password length\n",
    "length = int(input(\"Enter password length: \"))\n",
    "\n",
    "print('''Choose character set for password from these :\n",
    "        1. Digits\n",
    "        2. Letters\n",
    "        3. Special characters\n",
    "        4. Exit''')\n",
    "\n",
    "characterList = \"\"\n",
    "\n",
    "#character set for password\n",
    "while(True):\n",
    "    choice = int(input(\"Pick a number \"))\n",
    "    if(choice == 1):\n",
    "\n",
    "        # Adding letters\n",
    "        characterList += string.ascii_letters\n",
    "    elif(choice == 2):\n",
    "\n",
    "        # Adding digits\n",
    "        characterList += string.digits\n",
    "    elif(choice == 3):\n",
    "\n",
    "        # Adding special characters\n",
    "        # characters\n",
    "        characterList += string.punctuation\n",
    "    elif(choice == 4):\n",
    "        break\n",
    "    else:\n",
    "        print(\"Please pick a valid option!\")\n",
    "\n",
    "password = []\n",
    "\n",
    "for i in range(length):\n",
    "\n",
    "    # Picking a random character character list\n",
    "    \n",
    "    randomchar = random.choice(characterList)\n",
    "        \n",
    "    # appending a random character to password\n",
    "    password.append(randomchar)\n",
    "\n",
    "# printing password\n",
    "print(\"The random password is \" + \"\".join(password))\n"
   ]
  },
  {
   "cell_type": "code",
   "execution_count": null,
   "id": "8740982a",
   "metadata": {},
   "outputs": [],
   "source": []
  }
 ],
 "metadata": {
  "kernelspec": {
   "display_name": "Python 3 (ipykernel)",
   "language": "python",
   "name": "python3"
  },
  "language_info": {
   "codemirror_mode": {
    "name": "ipython",
    "version": 3
   },
   "file_extension": ".py",
   "mimetype": "text/x-python",
   "name": "python",
   "nbconvert_exporter": "python",
   "pygments_lexer": "ipython3",
   "version": "3.11.4"
  }
 },
 "nbformat": 4,
 "nbformat_minor": 5
}
