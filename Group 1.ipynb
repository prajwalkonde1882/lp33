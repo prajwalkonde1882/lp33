{
 "cells": [
  {
   "cell_type": "markdown",
   "id": "e9990f63-3493-43e2-a913-8fc01e51cf2b",
   "metadata": {},
   "source": [
    "# A-1 \n",
    "## Fibonacci numbers"
   ]
  },
  {
   "cell_type": "code",
   "execution_count": 1,
   "id": "da9e1308-779b-4d59-8bcc-5b983926f97b",
   "metadata": {
    "tags": []
   },
   "outputs": [
    {
     "name": "stdin",
     "output_type": "stream",
     "text": [
      "Enter value of n(nth Fibonacci number):  10\n"
     ]
    },
    {
     "name": "stdout",
     "output_type": "stream",
     "text": [
      "Fibonacci Number(Iterative): 34\n",
      "Fibonacci Number(Recursive): 34\n"
     ]
    }
   ],
   "source": [
    "def fibonacci_iterative(n:int):\n",
    "    if n == 1:\n",
    "        return 0\n",
    "    elif n == 2:\n",
    "        return 1\n",
    "    else:\n",
    "        dp = [0] * n\n",
    "        dp[0] = 0\n",
    "        dp[1] = 1\n",
    "        for i in range(2,n):\n",
    "            dp[i] = dp[i-1] + dp[i-2]\n",
    "        return dp[n-1]\n",
    "\n",
    "def fibonacci_recursive(n):\n",
    "    cache = {\n",
    "        1:0,\n",
    "        2:1\n",
    "    }\n",
    "    return helper(n,cache)\n",
    "\n",
    "def helper(n:int,cache):\n",
    "    if n in cache:\n",
    "        return cache[n]\n",
    "    else:\n",
    "        return helper(n-1,cache) + helper(n-2,cache)\n",
    "\n",
    "\n",
    "n = int(input(\"Enter value of n(nth Fibonacci number): \"))\n",
    "print(f\"Fibonacci Number(Iterative): {fibonacci_iterative(n)}\")\n",
    "print(f\"Fibonacci Number(Recursive): {fibonacci_recursive(n)}\")\n"
   ]
  },
  {
   "cell_type": "markdown",
   "id": "f48184a3-bd8a-42c4-b94e-5b6174b963ff",
   "metadata": {},
   "source": [
    "# A-2 \n",
    "## Huffman encoding"
   ]
  },
  {
   "cell_type": "code",
   "execution_count": 2,
   "id": "074689a8-9ef4-470c-bb92-815d5ed8b053",
   "metadata": {
    "tags": []
   },
   "outputs": [
    {
     "name": "stdin",
     "output_type": "stream",
     "text": [
      "Enter string to be encoded:  my name is prajwal\n"
     ]
    },
    {
     "name": "stdout",
     "output_type": "stream",
     "text": [
      "2\n",
      "4\n",
      "2\n",
      "2\n",
      "4\n",
      "8\n",
      "2\n",
      "2\n",
      "4\n",
      "6\n",
      "10\n",
      "18\n",
      " Char | Huffman code \n",
      " 'm'  |         000\n",
      " 'y'  |        0010\n",
      " 'n'  |        0011\n",
      " 'e'  |        0100\n",
      " 'i'  |        0101\n",
      " 's'  |        0110\n",
      " 'p'  |        0111\n",
      " 'r'  |        1000\n",
      " 'j'  |        1001\n",
      " 'w'  |        1010\n",
      " 'l'  |        1011\n",
      " ' '  |         110\n",
      " 'a'  |         111\n"
     ]
    }
   ],
   "source": [
    "class Node:\n",
    "    def __init__(self,left=None,right=None,value=None,frequency=None):\n",
    "        self.left = left\n",
    "        self.right = right\n",
    "        self.value = value\n",
    "        self.frequency = frequency\n",
    "    \n",
    "    def children(self):\n",
    "        return (self.left,self.right)\n",
    "\n",
    "\n",
    "\n",
    "class Huffman_Encoding:\n",
    "    def __init__(self,string):\n",
    "        self.q = []\n",
    "        self.string = string\n",
    "        self.encoding = {}\n",
    "\n",
    "    def char_frequency(self):\n",
    "        count = {}\n",
    "        for char in self.string:\n",
    "            if char not in count:\n",
    "                count[char] = 0\n",
    "            count[char] += 1\n",
    "\n",
    "        for char,value in count.items():\n",
    "            node = Node(value=char,frequency=value)\n",
    "            self.q.append(node)\n",
    "        self.q.sort(key=lambda x: x.frequency)    \n",
    "\n",
    "    def build_tree(self):\n",
    "        while len(self.q) > 1:\n",
    "            n1 = self.q.pop(0)\n",
    "            n2 = self.q.pop(0)\n",
    "            node = Node(left=n1,right=n2,frequency=n1.frequency + n2.frequency)\n",
    "            self.q.append(node)\n",
    "            self.q.sort(key = lambda x:x.frequency)\n",
    "\n",
    "    \n",
    "    def helper(self,node:Node,binary_str=\"\",):\n",
    "        if type(node.value) is str:\n",
    "            self.encoding[node.value] = binary_str\n",
    "            return\n",
    "        l,r = node.children()\n",
    "        self.helper(node.left,binary_str + \"0\")\n",
    "        self.helper(node.right,binary_str + \"1\")\n",
    "        print(node.frequency)\n",
    "        return\n",
    "        \n",
    "\n",
    "    def huffman_encoding(self):\n",
    "        root = self.q[0]\n",
    "        self.helper(root,\"\")\n",
    "\n",
    "\n",
    "    def print_encoding(self):\n",
    "        print(' Char | Huffman code ')\n",
    "        for char,binary in self.encoding.items():\n",
    "            print(\" %-4r |%12s\" % (char,binary))\n",
    "    \n",
    "    def encode(self):\n",
    "        self.char_frequency()\n",
    "        self.build_tree()\n",
    "        self.huffman_encoding()\n",
    "        self.print_encoding()\n",
    "\n",
    "string = input(\"Enter string to be encoded: \")\n",
    "# string = 'AAAAAAABBCCCCCCDDDEEEEEEEEE'\n",
    "encode = Huffman_Encoding(string)\n",
    "encode.encode()\n",
    "\n",
    "\n",
    "# The time complexity for encoding each unique character based on its frequency is O(nlog n).\n",
    "\n",
    "# Extracting minimum frequency from the priority queue takes place 2*(n-1) times and its complexity is O(log n). Thus the overall complexity is O(nlog n)."
   ]
  },
  {
   "cell_type": "markdown",
   "id": "adae4d68-408e-43fa-a6bb-74d5d2872dcc",
   "metadata": {},
   "source": [
    "# A-3\n",
    "## Kanpsack"
   ]
  },
  {
   "cell_type": "code",
   "execution_count": 15,
   "id": "0ece259a-894a-43a8-ad0c-aaa69f746ffe",
   "metadata": {
    "tags": []
   },
   "outputs": [
    {
     "name": "stdin",
     "output_type": "stream",
     "text": [
      "Enter the number of items:  5\n",
      "Enter value of item 1:  20\n",
      "Enter weight of item 1:  20\n",
      "Enter value of item 2:  30\n",
      "Enter weight of item 2:  30\n",
      "Enter value of item 3:  40\n",
      "Enter weight of item 3:  40\n",
      "Enter value of item 4:  50\n",
      "Enter weight of item 4:  50\n",
      "Enter value of item 5:  60\n",
      "Enter weight of item 5:  60\n",
      "Enter the capacity of the knapsack:  50\n"
     ]
    },
    {
     "name": "stdout",
     "output_type": "stream",
     "text": [
      "\n",
      "Maximum value in Knapsack: 50.00\n"
     ]
    }
   ],
   "source": [
    "# Class to represent an item in the knapsack\n",
    "class Item:\n",
    "    def __init__(self, value, weight):\n",
    "        self.value = value\n",
    "        self.weight = weight\n",
    "\n",
    "    # Function to calculate value-to-weight ratio\n",
    "    def value_per_weight(self):\n",
    "        return self.value / self.weight\n",
    "\n",
    "# Function to solve the Fractional Knapsack Problem\n",
    "def fractional_knapsack(items, capacity):\n",
    "    # Sort items by value-to-weight ratio in descending order\n",
    "    items.sort(key=lambda item: item.value_per_weight(), reverse=True)\n",
    "\n",
    "    total_value = 0.0  # Total value accumulated in the knapsack\n",
    "    total_weight = 0   # Total weight accumulated in the knapsack\n",
    "\n",
    "    # Loop through the sorted items\n",
    "    for item in items:\n",
    "        if total_weight + item.weight <= capacity:\n",
    "            # If adding the whole item doesn't exceed capacity, take the whole item\n",
    "            total_weight += item.weight\n",
    "            total_value += item.value\n",
    "        else:\n",
    "            # Otherwise, take a fraction of the item to fill the knapsack\n",
    "            remaining_capacity = capacity - total_weight\n",
    "            fraction = remaining_capacity / item.weight\n",
    "            total_value += item.value * fraction\n",
    "            total_weight += item.weight * fraction\n",
    "            break  # Knapsack is now full\n",
    "\n",
    "    return total_value\n",
    "\n",
    "# Main function to test the Fractional Knapsack\n",
    "if __name__ == \"__main__\":\n",
    "    # Taking input from the user\n",
    "    n = int(input(\"Enter the number of items: \"))\n",
    "\n",
    "    items = []\n",
    "    for i in range(n):\n",
    "        value = float(input(f\"Enter value of item {i + 1}: \"))\n",
    "        weight = float(input(f\"Enter weight of item {i + 1}: \"))\n",
    "        items.append(Item(value, weight))\n",
    "\n",
    "    # Input: Capacity of the knapsack\n",
    "    capacity = float(input(\"Enter the capacity of the knapsack: \"))\n",
    "\n",
    "    # Calculate the maximum value of the knapsack\n",
    "    max_value = fractional_knapsack(items, capacity)\n",
    "\n",
    "    print(f\"\\nMaximum value in Knapsack: {max_value:.2f}\")\n"
   ]
  },
  {
   "cell_type": "markdown",
   "id": "c84df77d-6fed-4cf4-b183-8595644f6f29",
   "metadata": {},
   "source": [
    "# A-4\n",
    "## 0-1 Knapsack"
   ]
  },
  {
   "cell_type": "code",
   "execution_count": null,
   "id": "c00e5859-263f-4df9-8a5c-1b96aa77a25c",
   "metadata": {},
   "outputs": [
    {
     "name": "stdout",
     "output_type": "stream",
     "text": [
      "Press Ctrl+C to terminate...\n"
     ]
    },
    {
     "name": "stdin",
     "output_type": "stream",
     "text": [
      "Enter number of items:  2\n",
      "Enter values of items: 10\n",
      "Enter weights of items: 30\n",
      "Enter maximum weight:  40\n"
     ]
    },
    {
     "name": "stdout",
     "output_type": "stream",
     "text": [
      "The maximum value of items that can be carried: 10\n",
      "Press Ctrl+C to terminate...\n"
     ]
    }
   ],
   "source": [
    "def knapsack(values,weights,capacity):\n",
    "    dp = [[0 for i in range(capacity+1)] for j in range(len(values)+1)]\n",
    "\n",
    "    for item in range(1,len(values) + 1):\n",
    "        for weight in range(1,capacity + 1):\n",
    "            if weights[item - 1] <= weight:\n",
    "                dp[item][weight] = max(dp[item-1][weight-weights[item-1]]+values[item-1],dp[item-1][weight])\n",
    "            else:\n",
    "                dp[item][weight] = dp[item-1][weight]\n",
    "    return dp[-1][-1]\n",
    "\n",
    "\n",
    "while True:\n",
    "    print(\"Press Ctrl+C to terminate...\")\n",
    "    n = int(input('Enter number of items: '))\n",
    "    values = [int(i) for i in input(\"Enter values of items:\").split(\" \")]\n",
    "    weights = [int(i) for i in input(\"Enter weights of items:\").split(\" \")]\n",
    "    capacity = int(input(\"Enter maximum weight: \"))\n",
    "    maximum_value = knapsack(values,weights,capacity)\n",
    "    print('The maximum value of items that can be carried:', maximum_value)"
   ]
  },
  {
   "cell_type": "markdown",
   "id": "dc7c4349-f547-4390-941b-a97f68e914f9",
   "metadata": {},
   "source": [
    "# A-5\n",
    "## n-queens"
   ]
  },
  {
   "cell_type": "code",
   "execution_count": 11,
   "id": "409cb656-1f4c-4bbd-9b8d-1d873f733f2b",
   "metadata": {
    "tags": []
   },
   "outputs": [
    {
     "name": "stdin",
     "output_type": "stream",
     "text": [
      "Enter size of chessboard:  5\n"
     ]
    },
    {
     "name": "stdout",
     "output_type": "stream",
     "text": [
      "Enter coordinates of first queen: \n"
     ]
    },
    {
     "name": "stdin",
     "output_type": "stream",
     "text": [
      "Enter row (1-5):  4\n",
      "Enter column (1-5):  3\n"
     ]
    },
    {
     "name": "stdout",
     "output_type": "stream",
     "text": [
      "X X X X X \n",
      "X X X X X \n",
      "X X X X X \n",
      "X X Q X X \n",
      "X X X X X \n",
      "\n",
      "X Q X X X \n",
      "X X X Q X \n",
      "Q X X X X \n",
      "X X Q X X \n",
      "X X X X Q \n",
      "\n",
      "X X X Q X \n",
      "X Q X X X \n",
      "X X X X Q \n",
      "X X Q X X \n",
      "Q X X X X \n",
      "\n",
      "Solution exists for the given position of the queen.\n"
     ]
    }
   ],
   "source": [
    "class NQueens:\n",
    "    def __init__(self) -> None:\n",
    "        self.size = int(input(\"Enter size of chessboard: \"))\n",
    "        self.board = [[False]*self.size for _ in range(self.size)]\n",
    "        self.count = 0\n",
    "    def printBoard(self):\n",
    "        for row in self.board:\n",
    "            for ele in row:\n",
    "                if ele == True:\n",
    "                    print(\"Q\",end=\" \")\n",
    "                else:\n",
    "                    print(\"X\",end=\" \")\n",
    "            print()\n",
    "        print()\n",
    "    \n",
    "    def isSafe(self,row:int,col:int) -> bool:\n",
    "\n",
    "        # Check Column(above and below of the (row,col))\n",
    "        for i in self.board:\n",
    "            if i[col] == True:\n",
    "                return False\n",
    "        \n",
    "        # Check backward slash(\\) diagonal only in above direction\n",
    "        i = row\n",
    "        j = col\n",
    "        while i >= 0 and j >= 0:\n",
    "            if self.board[i][j] == True:\n",
    "                return False\n",
    "            i -= 1\n",
    "            j -= 1\n",
    "        # Check backward slash(\\) diagonal only in below direction\n",
    "        i = row\n",
    "        j = col\n",
    "        while i < self.size and j < self.size:\n",
    "            if self.board[i][j] == True:\n",
    "                return False\n",
    "            i += 1\n",
    "            j += 1\n",
    "        \n",
    "        # Check forward slash diagonal(/) only in above direction\n",
    "        i = row\n",
    "        j = col\n",
    "        while i >= 0 and j < self.size:\n",
    "            if self.board[i][j] == True:\n",
    "                return False\n",
    "            i -= 1\n",
    "            j += 1\n",
    "        \n",
    "         # Check forward slash diagonal(/) only in below direction\n",
    "        i = row\n",
    "        j = col\n",
    "        while i < self.size and j >= 0:\n",
    "            if self.board[i][j] == True:\n",
    "                return False\n",
    "            i += 1\n",
    "            j -= 1\n",
    "        \n",
    "        return True\n",
    "    \n",
    "    def set_position_first_queen(self):\n",
    "        print(\"Enter coordinates of first queen: \")\n",
    "        row = int(input(f\"Enter row (1-{self.size}): \"))\n",
    "        col = int(input(f\"Enter column (1-{self.size}): \"))\n",
    "        self.board[row-1][col-1] = True\n",
    "        self.printBoard()\n",
    "    \n",
    "    def solve(self,row:int):\n",
    "        if row == self.size:\n",
    "            self.count += 1\n",
    "            self.printBoard()\n",
    "            return\n",
    "        \n",
    "        if any(self.board[row]) is True:\n",
    "            self.solve(row+1)\n",
    "            return\n",
    "\n",
    "        for col in range(self.size):\n",
    "            if self.isSafe(row,col) == True:\n",
    "                self.board[row][col] = True\n",
    "                self.solve(row+1)\n",
    "                self.board[row][col] = False\n",
    "    \n",
    "    def displayMessage(self):\n",
    "        if self.count > 0:\n",
    "            print(\"Solution exists for the given position of the queen.\")\n",
    "        else:\n",
    "            print(\"Solution doesn't exist for the given position of the queen.\")\n",
    "\n",
    "solver = NQueens()\n",
    "solver.set_position_first_queen()\n",
    "solver.solve(0)\n",
    "solver.displayMessage()"
   ]
  }
 ],
 "metadata": {
  "kernelspec": {
   "display_name": "Python 3 (ipykernel)",
   "language": "python",
   "name": "python3"
  },
  "language_info": {
   "codemirror_mode": {
    "name": "ipython",
    "version": 3
   },
   "file_extension": ".py",
   "mimetype": "text/x-python",
   "name": "python",
   "nbconvert_exporter": "python",
   "pygments_lexer": "ipython3",
   "version": "3.11.4"
  },
  "widgets": {
   "application/vnd.jupyter.widget-state+json": {
    "state": {},
    "version_major": 2,
    "version_minor": 0
   }
  }
 },
 "nbformat": 4,
 "nbformat_minor": 5
}
